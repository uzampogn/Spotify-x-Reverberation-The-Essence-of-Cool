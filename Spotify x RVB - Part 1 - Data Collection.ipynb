{
 "cells": [
  {
   "cell_type": "markdown",
   "id": "cefb62d5",
   "metadata": {},
   "source": [
    "![SpotifyxRVB](./Spotify%20x%20RVB%20-%20Logo.png)"
   ]
  },
  {
   "cell_type": "markdown",
   "id": "f4b2764f",
   "metadata": {},
   "source": [
    "# <a><center> Spotify x Reverberation Radio - The essence of Cool </center></a>\n",
    "<b>Author: Ulysse Zampogna</b>\n",
    "\n",
    "The project consists in revealing the secrets of the best radio on earth (according to me): Reverberation. This radio is a collective of artists based in Austin texas, regularly featuring guests apperarences from all over the world. The radio releases one show on a weekly basis. The music selection is excquisit and covers an eclectic range of music history. \n",
    "\n",
    "But what make this radio so special? Let's compare it with a few popular playlists on Spotify and try to define the Reverberation's essence of Cool. \n",
    "\n",
    "This Data Science project is broken down in 3 notebooks:\n",
    " - [Part 1](https://github.com/uzampogn/Spotify-x-Reverberation-The-essence-of-cool) uses [Spotipy API](https://spotipy.readthedocs.io/en/2.19.0/) to collect data from a dozen of playlists. \n",
    " - [Part 2](https://github.com/uzampogn/Spotify-x-Reverberation-The-essence-of-cool) performs an exploratory data analysis to unveal the secrets of each playlist. \n",
    " - [Part 3](https://github.com/uzampogn/Spotify-x-Reverberation-The-essence-of-cool) is a series of classifiers ([Naïve Bayes](https://scikit-learn.org/stable/modules/naive_bayes.html), [Random Forest](https://scikit-learn.org/stable/modules/generated/sklearn.ensemble.RandomForestClassifier.html) & [XGBoost](https://xgboost.readthedocs.io/en/stable/)) which takes any track and predicts the best matching playlist. Let's see if a given track could enter the exquisit Reverberation playlist."
   ]
  },
  {
   "cell_type": "markdown",
   "id": "9430d459",
   "metadata": {},
   "source": [
    "#### Useful Resources\n",
    "- https://spotipy.readthedocs.io/en/2.19.0/"
   ]
  },
  {
   "cell_type": "markdown",
   "id": "e22bc80e",
   "metadata": {},
   "source": [
    "---\n",
    "# Part 1: Data Collection\n",
    "\n",
    "This first kernel uses Spotipy API to collect the tracklists and tracks features of the Reveberation playlist as well as another dozen playlists for comparison purposes. These extra playlists are selected among the most popular playlists for 2021.\n",
    "\n",
    "Let's collect this data!"
   ]
  },
  {
   "cell_type": "markdown",
   "id": "7f6b63c3",
   "metadata": {},
   "source": [
    "### Table of contents\n",
    "\n",
    "   1. <a href='#1'>Credentials settings</a>\n",
    "   2. <a href='#2'>Playlist extraction</a>\n",
    "   3. <a href='#3'>Track extraction</a>\n",
    "   4. <a href='#4'>Track features extractions</a>\n",
    "   5. <a href='#5'>Data export</a>\n",
    "   6. <a href='#6'>Final checks</a>\n",
    "   \n",
    " ---"
   ]
  },
  {
   "cell_type": "markdown",
   "id": "b5cee957",
   "metadata": {},
   "source": [
    "#### Settings"
   ]
  },
  {
   "cell_type": "code",
   "execution_count": 149,
   "id": "0ae03767",
   "metadata": {},
   "outputs": [
    {
     "data": {
      "application/javascript": [
       "IPython.notebook.set_autosave_interval(30000)"
      ]
     },
     "metadata": {},
     "output_type": "display_data"
    },
    {
     "name": "stdout",
     "output_type": "stream",
     "text": [
      "Autosaving every 30 seconds\n"
     ]
    }
   ],
   "source": [
    "import spotipy\n",
    "from spotipy.oauth2 import SpotifyClientCredentials\n",
    "import pandas as pd\n",
    "import time\n",
    "\n",
    "pd.set_option('display.max_rows', None)\n",
    "%matplotlib inline\n",
    "sns.set(style=\"ticks\", context=\"poster\")\n",
    "plt.style.use(\"seaborn-poster\")\n",
    "%autosave 30"
   ]
  },
  {
   "cell_type": "markdown",
   "id": "17a8b356",
   "metadata": {},
   "source": [
    "---\n",
    "### 1. Credentials settings <a name=\"1\"></a>"
   ]
  },
  {
   "cell_type": "code",
   "execution_count": 2,
   "id": "2912d145",
   "metadata": {},
   "outputs": [],
   "source": [
    "client_id = #ENTER CLIENT_ID\n",
    "client_secret = #ENTER CLIENT_SECRET_KEY\n",
    "\n",
    "client_credentials_manager = SpotifyClientCredentials(client_id, client_secret)\n",
    "sp = spotipy.Spotify(client_credentials_manager=client_credentials_manager)"
   ]
  },
  {
   "cell_type": "markdown",
   "id": "fe0b37a2",
   "metadata": {},
   "source": [
    "---\n",
    "### 2. Playlists extraction<a name='2'></a>\n",
    "\n",
    "First, we will extract a dozen playlists among which Reveberbation. The other ones will serve as benchmark during EDA and negative samples for the classification algorithm."
   ]
  },
  {
   "cell_type": "code",
   "execution_count": 3,
   "id": "45b21c43",
   "metadata": {},
   "outputs": [],
   "source": [
    "#get all tracks for a given playlist\n",
    "def get_playlist_tracks(username,playlist_id):\n",
    "    results = sp.user_playlist_tracks(username,playlist_id)\n",
    "    tracks = results['items']\n",
    "    while results['next']:\n",
    "        results = sp.next(results)\n",
    "        tracks.extend(results['items'])\n",
    "    return tracks"
   ]
  },
  {
   "cell_type": "code",
   "execution_count": 4,
   "id": "d951e168",
   "metadata": {},
   "outputs": [],
   "source": [
    "#hand picked list of public playlist on Spotify\n",
    "playlists = [['''Today's Top Hits''','spotify','37i9dQZF1DXcBWIGoYBM5M'],\n",
    " ['Your Favorite CoffeeHouse','spotify','37i9dQZF1DX6ziVCJnEm59'],\n",
    " ['RapCaviar','spotify','37i9dQZF1DX0XUsuxWHRQd'],\n",
    " ['Viva Latino','spotify','37i9dQZF1DX10zKzsJ2jva'],\n",
    " ['Hot Country','spotify','37i9dQZF1DX1lVhptIYRda'],\n",
    " ['New Music Friday','spotify','37i9dQZF1DX4JAvHpjipBk'],\n",
    " ['Peaceful Piano','spotify','37i9dQZF1DXcBWIGoYBM5M'],\n",
    " ['Are & Be','spotify','37i9dQZF1DX4SBhb3fqCJd'],\n",
    " ['Mint','spotify','37i9dQZF1DX4dyzvuaRJ0n'],\n",
    " ['Just Hits','spotify','37i9dQZF1DXcRXFNfZr7Tp'],\n",
    " ['Soft Pop Hits','spotify','37i9dQZF1DWTwnEm1IYyoj'],\n",
    " ['All Out 2000s','spotify','37i9dQZF1DX4o1oenSJRJd'],\n",
    " ['Reverberation','h0572wwbcwym536rga31czi84','4puKKbk5xNIpmtYUI2OYzt']]"
   ]
  },
  {
   "cell_type": "code",
   "execution_count": 5,
   "id": "3b0e29b0",
   "metadata": {},
   "outputs": [
    {
     "name": "stdout",
     "output_type": "stream",
     "text": [
      "Playlist Today's Top Hits extracted\n",
      "Playlist Your Favorite CoffeeHouse extracted\n",
      "Playlist RapCaviar extracted\n",
      "Playlist Viva Latino extracted\n",
      "Playlist Hot Country extracted\n",
      "Playlist New Music Friday extracted\n",
      "Playlist Peaceful Piano extracted\n",
      "Playlist Are & Be extracted\n",
      "Playlist Mint extracted\n",
      "Playlist Just Hits extracted\n",
      "Playlist Soft Pop Hits extracted\n",
      "Playlist All Out 2000s extracted\n",
      "Playlist Reverberation extracted\n"
     ]
    }
   ],
   "source": [
    "#playlist extraction\n",
    "pl_info = []\n",
    "for pl in playlists:\n",
    "    pl_name=pl[0]\n",
    "    pl_track_list = get_playlist_tracks(pl[1],pl[2])\n",
    "    pl_info.append([pl_name,pl_track_list])\n",
    "    time.sleep(5)\n",
    "    print('Playlist {} extracted'.format(pl_name))"
   ]
  },
  {
   "cell_type": "code",
   "execution_count": 6,
   "id": "c8d4ea6d",
   "metadata": {
    "scrolled": false
   },
   "outputs": [],
   "source": [
    "#Inspect first element\n",
    "#pl_info[0][1][0]"
   ]
  },
  {
   "cell_type": "markdown",
   "id": "20c41857",
   "metadata": {},
   "source": [
    "---\n",
    "### 3. Track_ids extraction <a name='2'></a>\n",
    "\n",
    "Further processing is needed to extract the track_id out of each playlist item"
   ]
  },
  {
   "cell_type": "code",
   "execution_count": 7,
   "id": "242879aa",
   "metadata": {},
   "outputs": [],
   "source": [
    "#Instantiate function to extract track ids\n",
    "def getTrackID(ids):\n",
    "    id = []\n",
    "    playlist = ids\n",
    "    for item in playlist:\n",
    "        id.append(item['track']['id'])\n",
    "    return id"
   ]
  },
  {
   "cell_type": "code",
   "execution_count": 8,
   "id": "0ed97afd",
   "metadata": {},
   "outputs": [
    {
     "name": "stdout",
     "output_type": "stream",
     "text": [
      "Today's Top Hits - # of collected ids: 50\n",
      "\n",
      "Your Favorite CoffeeHouse - # of collected ids: 125\n",
      "\n",
      "RapCaviar - # of collected ids: 50\n",
      "\n",
      "Viva Latino - # of collected ids: 50\n",
      "\n",
      "Hot Country - # of collected ids: 52\n",
      "\n",
      "New Music Friday - # of collected ids: 100\n",
      "\n",
      "Peaceful Piano - # of collected ids: 50\n",
      "\n",
      "Are & Be - # of collected ids: 50\n",
      "\n",
      "Mint - # of collected ids: 100\n",
      "\n",
      "Just Hits - # of collected ids: 87\n",
      "\n",
      "Soft Pop Hits - # of collected ids: 100\n",
      "\n",
      "All Out 2000s - # of collected ids: 150\n",
      "\n",
      "Reverberation - # of collected ids: 1602\n",
      "\n",
      "Total playlists collected: 13\n",
      "Total ids collected: 2566\n",
      "Total positive class (Reverberation): 1602, or 62.43%\n",
      "Total negative class (Other Playlist): 964\n"
     ]
    }
   ],
   "source": [
    "#Instantiate variables\n",
    "pl_ids = []\n",
    "tot_pl = 0\n",
    "tot_ids = 0\n",
    "positive_class = 0\n",
    "\n",
    "#extract each track_id for each playlist\n",
    "for pl in pl_info:\n",
    "    ids = getTrackID(pl[1])\n",
    "    pl_ids.append([pl[0],ids])\n",
    "    tot_pl += 1\n",
    "    tot_ids += len(ids)\n",
    "    if pl[0]=='Reverberation':\n",
    "        positive_class = len(ids)\n",
    "    print('{} - # of collected ids: {}\\n'.format(pl[0],len(ids)))\n",
    "    time.sleep(5)\n",
    "print('Total playlists collected: {}'.format(tot_pl))\n",
    "print('Total ids collected: {}'.format(tot_ids))\n",
    "print('Total positive class (Reverberation): {}, or {:.2%}'.format(positive_class,positive_class/tot_ids))\n",
    "print('Total negative class (Other Playlist): {}'.format(tot_ids-positive_class))"
   ]
  },
  {
   "cell_type": "markdown",
   "id": "50a1da0f",
   "metadata": {},
   "source": [
    "---\n",
    "### 4. Track features extraction <a name='4'></a>\n",
    "\n",
    "Now that we have a clean list of track_id, we can use sp.track & sp.audio_features from spotipy to collect detailed information on each track."
   ]
  },
  {
   "cell_type": "code",
   "execution_count": 9,
   "id": "99be831f",
   "metadata": {},
   "outputs": [],
   "source": [
    "#Instantiate function to extract track features\n",
    "#Resource: https://developer.spotify.com/documentation/web-api/reference/#/\n",
    "def getTrackFeatures(id,playlist):\n",
    "    meta = sp.track(id)\n",
    "    features = sp.audio_features(id)\n",
    "    artist_id = meta['album']['artists'][0]['id']\n",
    "    artist_features = sp.artist(artist_id)\n",
    "    \n",
    "    #metadata\n",
    "    name = meta['name']\n",
    "    album = meta['album']['name']\n",
    "    artist = meta['album']['artists'][0]['name']\n",
    "    genres = artist_features['genres']\n",
    "    release_date = meta['album']['release_date']\n",
    "    duration_ms = meta['duration_ms']\n",
    "    popularity = meta['popularity']\n",
    "    \n",
    "    #feature from the data\n",
    "    acousticness = features[0]['acousticness']\n",
    "    danceability = features[0]['danceability']\n",
    "    energy = features[0]['energy']\n",
    "    valence = features[0]['valence']\n",
    "    instrumentalness = features[0]['instrumentalness']\n",
    "    liveness = features[0]['liveness']\n",
    "    loudness = features[0]['loudness']\n",
    "    speechiness = features[0]['speechiness']\n",
    "    tempo = features[0]['tempo']\n",
    "    time_signature = features[0]['time_signature']\n",
    "    mode = features[0]['mode']\n",
    "    type = features[0]['type']\n",
    "    \n",
    "    track = [playlist,id,name,album,artist,genres,release_date,popularity,acousticness,danceability,energy,valence,instrumentalness,liveness,loudness,speechiness,tempo,time_signature,duration_ms,mode,type]\n",
    "    return track"
   ]
  },
  {
   "cell_type": "code",
   "execution_count": 10,
   "id": "baeb9012",
   "metadata": {},
   "outputs": [
    {
     "name": "stdout",
     "output_type": "stream",
     "text": [
      "Playlist 0 - Today's Top Hits: Features extraction completed\n",
      "Playlist 1 - Your Favorite CoffeeHouse: Features extraction completed\n",
      "Playlist 2 - RapCaviar: Features extraction completed\n",
      "Playlist 3 - Viva Latino: Features extraction completed\n",
      "Playlist 4 - Hot Country: Features extraction completed\n",
      "Playlist 5 - New Music Friday: Features extraction completed\n",
      "Playlist 6 - Peaceful Piano: Features extraction completed\n",
      "Playlist 7 - Are & Be: Features extraction completed\n",
      "Playlist 8 - Mint: Features extraction completed\n",
      "Playlist 9 - Just Hits: Features extraction completed\n",
      "Playlist 10 - Soft Pop Hits: Features extraction completed\n",
      "Playlist 11 - All Out 2000s: Features extraction completed\n",
      "Playlist 12 - Reverberation: Features extraction completed\n"
     ]
    }
   ],
   "source": [
    "#extract track features\n",
    "tracks = []\n",
    "for pl_i,pl in enumerate(pl_ids):\n",
    "    playlist = pl[0]\n",
    "    ids = pl[1]\n",
    "    for i in range(len(ids)):\n",
    "        track = getTrackFeatures(ids[i],playlist)\n",
    "        tracks.append(track)\n",
    "        time.sleep(.5)\n",
    "    print('Playlist {} - {}: Features extraction completed'.format(pl_i,playlist))"
   ]
  },
  {
   "cell_type": "markdown",
   "id": "d36acc48",
   "metadata": {},
   "source": [
    "---\n",
    "### 5. Export Data <a name='5'></a>"
   ]
  },
  {
   "cell_type": "code",
   "execution_count": 11,
   "id": "c9e3fc4f",
   "metadata": {},
   "outputs": [],
   "source": [
    "#Export data in csv file\n",
    "track_columns=['playlist','id','name','album','artist','genres','release_date','popularity','acousticness','danceability','energy','valence','instrumentalness','liveness','loudness','speechiness','tempo','time_signature','duration_ms','mode','type']\n",
    "df = pd.DataFrame(tracks, columns=track_columns)\n",
    "df.to_csv('./data/rvb_data.csv', sep=',',index=False)"
   ]
  },
  {
   "cell_type": "markdown",
   "id": "e0a8037e",
   "metadata": {},
   "source": [
    "---\n",
    "### 6. Final check <a name='6'></a>"
   ]
  },
  {
   "cell_type": "code",
   "execution_count": 12,
   "id": "d5a31d84",
   "metadata": {},
   "outputs": [
    {
     "name": "stdout",
     "output_type": "stream",
     "text": [
      "Total duration in hours: 158\n",
      "\n",
      "[\"Today's Top Hits\", 'Your Favorite CoffeeHouse', 'RapCaviar', 'Viva Latino', 'Hot Country', 'New Music Friday', 'Peaceful Piano', 'Are & Be', 'Mint', 'Just Hits', 'Soft Pop Hits', 'All Out 2000s', 'Reverberation']\n"
     ]
    },
    {
     "data": {
      "text/html": [
       "<div>\n",
       "<style scoped>\n",
       "    .dataframe tbody tr th:only-of-type {\n",
       "        vertical-align: middle;\n",
       "    }\n",
       "\n",
       "    .dataframe tbody tr th {\n",
       "        vertical-align: top;\n",
       "    }\n",
       "\n",
       "    .dataframe thead th {\n",
       "        text-align: right;\n",
       "    }\n",
       "</style>\n",
       "<table border=\"1\" class=\"dataframe\">\n",
       "  <thead>\n",
       "    <tr style=\"text-align: right;\">\n",
       "      <th></th>\n",
       "      <th>playlist</th>\n",
       "      <th>id</th>\n",
       "      <th>name</th>\n",
       "      <th>album</th>\n",
       "      <th>artist</th>\n",
       "      <th>genres</th>\n",
       "      <th>release_date</th>\n",
       "      <th>popularity</th>\n",
       "      <th>acousticness</th>\n",
       "      <th>danceability</th>\n",
       "      <th>...</th>\n",
       "      <th>valence</th>\n",
       "      <th>instrumentalness</th>\n",
       "      <th>liveness</th>\n",
       "      <th>loudness</th>\n",
       "      <th>speechiness</th>\n",
       "      <th>tempo</th>\n",
       "      <th>time_signature</th>\n",
       "      <th>duration_ms</th>\n",
       "      <th>mode</th>\n",
       "      <th>type</th>\n",
       "    </tr>\n",
       "  </thead>\n",
       "  <tbody>\n",
       "    <tr>\n",
       "      <th>0</th>\n",
       "      <td>Today's Top Hits</td>\n",
       "      <td>3USxtqRwSYz57Ewm6wWRMp</td>\n",
       "      <td>Heat Waves</td>\n",
       "      <td>Dreamland</td>\n",
       "      <td>Glass Animals</td>\n",
       "      <td>[gauze pop, indietronica, shiver pop]</td>\n",
       "      <td>2020-08-07</td>\n",
       "      <td>90</td>\n",
       "      <td>0.4400</td>\n",
       "      <td>0.761</td>\n",
       "      <td>...</td>\n",
       "      <td>0.531</td>\n",
       "      <td>0.000007</td>\n",
       "      <td>0.0921</td>\n",
       "      <td>-6.900</td>\n",
       "      <td>0.0944</td>\n",
       "      <td>80.870</td>\n",
       "      <td>4</td>\n",
       "      <td>238805</td>\n",
       "      <td>1</td>\n",
       "      <td>audio_features</td>\n",
       "    </tr>\n",
       "    <tr>\n",
       "      <th>1</th>\n",
       "      <td>Today's Top Hits</td>\n",
       "      <td>5HCyWlXZPP0y6Gqq8TgA20</td>\n",
       "      <td>STAY (with Justin Bieber)</td>\n",
       "      <td>STAY (with Justin Bieber)</td>\n",
       "      <td>The Kid LAROI</td>\n",
       "      <td>[australian hip hop]</td>\n",
       "      <td>2021-07-09</td>\n",
       "      <td>97</td>\n",
       "      <td>0.0383</td>\n",
       "      <td>0.591</td>\n",
       "      <td>...</td>\n",
       "      <td>0.478</td>\n",
       "      <td>0.000000</td>\n",
       "      <td>0.1030</td>\n",
       "      <td>-5.484</td>\n",
       "      <td>0.0483</td>\n",
       "      <td>169.928</td>\n",
       "      <td>4</td>\n",
       "      <td>141805</td>\n",
       "      <td>1</td>\n",
       "      <td>audio_features</td>\n",
       "    </tr>\n",
       "    <tr>\n",
       "      <th>2</th>\n",
       "      <td>Today's Top Hits</td>\n",
       "      <td>6zSpb8dQRaw0M1dK8PBwQz</td>\n",
       "      <td>Cold Heart - PNAU Remix</td>\n",
       "      <td>Cold Heart (PNAU Remix)</td>\n",
       "      <td>Elton John</td>\n",
       "      <td>[glam rock, mellow gold, piano rock]</td>\n",
       "      <td>2021-08-13</td>\n",
       "      <td>96</td>\n",
       "      <td>0.0340</td>\n",
       "      <td>0.796</td>\n",
       "      <td>...</td>\n",
       "      <td>0.942</td>\n",
       "      <td>0.000042</td>\n",
       "      <td>0.0952</td>\n",
       "      <td>-6.312</td>\n",
       "      <td>0.0317</td>\n",
       "      <td>116.032</td>\n",
       "      <td>4</td>\n",
       "      <td>202735</td>\n",
       "      <td>1</td>\n",
       "      <td>audio_features</td>\n",
       "    </tr>\n",
       "    <tr>\n",
       "      <th>3</th>\n",
       "      <td>Today's Top Hits</td>\n",
       "      <td>0gplL1WMoJ6iYaPgMCL0gX</td>\n",
       "      <td>Easy On Me</td>\n",
       "      <td>Easy On Me</td>\n",
       "      <td>Adele</td>\n",
       "      <td>[british soul, pop, pop soul, uk pop]</td>\n",
       "      <td>2021-10-14</td>\n",
       "      <td>97</td>\n",
       "      <td>0.5780</td>\n",
       "      <td>0.604</td>\n",
       "      <td>...</td>\n",
       "      <td>0.130</td>\n",
       "      <td>0.000000</td>\n",
       "      <td>0.1330</td>\n",
       "      <td>-7.519</td>\n",
       "      <td>0.0282</td>\n",
       "      <td>141.981</td>\n",
       "      <td>4</td>\n",
       "      <td>224694</td>\n",
       "      <td>1</td>\n",
       "      <td>audio_features</td>\n",
       "    </tr>\n",
       "    <tr>\n",
       "      <th>4</th>\n",
       "      <td>Today's Top Hits</td>\n",
       "      <td>4fouWK6XVHhzl78KzQ1UjL</td>\n",
       "      <td>abcdefu</td>\n",
       "      <td>abcdefu</td>\n",
       "      <td>GAYLE</td>\n",
       "      <td>[modern alternative pop]</td>\n",
       "      <td>2021-08-13</td>\n",
       "      <td>100</td>\n",
       "      <td>0.2990</td>\n",
       "      <td>0.695</td>\n",
       "      <td>...</td>\n",
       "      <td>0.415</td>\n",
       "      <td>0.000000</td>\n",
       "      <td>0.3670</td>\n",
       "      <td>-5.692</td>\n",
       "      <td>0.0493</td>\n",
       "      <td>121.932</td>\n",
       "      <td>4</td>\n",
       "      <td>168601</td>\n",
       "      <td>1</td>\n",
       "      <td>audio_features</td>\n",
       "    </tr>\n",
       "  </tbody>\n",
       "</table>\n",
       "<p>5 rows × 21 columns</p>\n",
       "</div>"
      ],
      "text/plain": [
       "           playlist                      id                       name  \\\n",
       "0  Today's Top Hits  3USxtqRwSYz57Ewm6wWRMp                 Heat Waves   \n",
       "1  Today's Top Hits  5HCyWlXZPP0y6Gqq8TgA20  STAY (with Justin Bieber)   \n",
       "2  Today's Top Hits  6zSpb8dQRaw0M1dK8PBwQz    Cold Heart - PNAU Remix   \n",
       "3  Today's Top Hits  0gplL1WMoJ6iYaPgMCL0gX                 Easy On Me   \n",
       "4  Today's Top Hits  4fouWK6XVHhzl78KzQ1UjL                    abcdefu   \n",
       "\n",
       "                       album         artist  \\\n",
       "0                  Dreamland  Glass Animals   \n",
       "1  STAY (with Justin Bieber)  The Kid LAROI   \n",
       "2    Cold Heart (PNAU Remix)     Elton John   \n",
       "3                 Easy On Me          Adele   \n",
       "4                    abcdefu          GAYLE   \n",
       "\n",
       "                                  genres release_date  popularity  \\\n",
       "0  [gauze pop, indietronica, shiver pop]   2020-08-07          90   \n",
       "1                   [australian hip hop]   2021-07-09          97   \n",
       "2   [glam rock, mellow gold, piano rock]   2021-08-13          96   \n",
       "3  [british soul, pop, pop soul, uk pop]   2021-10-14          97   \n",
       "4               [modern alternative pop]   2021-08-13         100   \n",
       "\n",
       "   acousticness  danceability  ...  valence  instrumentalness  liveness  \\\n",
       "0        0.4400         0.761  ...    0.531          0.000007    0.0921   \n",
       "1        0.0383         0.591  ...    0.478          0.000000    0.1030   \n",
       "2        0.0340         0.796  ...    0.942          0.000042    0.0952   \n",
       "3        0.5780         0.604  ...    0.130          0.000000    0.1330   \n",
       "4        0.2990         0.695  ...    0.415          0.000000    0.3670   \n",
       "\n",
       "   loudness  speechiness    tempo  time_signature  duration_ms  mode  \\\n",
       "0    -6.900       0.0944   80.870               4       238805     1   \n",
       "1    -5.484       0.0483  169.928               4       141805     1   \n",
       "2    -6.312       0.0317  116.032               4       202735     1   \n",
       "3    -7.519       0.0282  141.981               4       224694     1   \n",
       "4    -5.692       0.0493  121.932               4       168601     1   \n",
       "\n",
       "             type  \n",
       "0  audio_features  \n",
       "1  audio_features  \n",
       "2  audio_features  \n",
       "3  audio_features  \n",
       "4  audio_features  \n",
       "\n",
       "[5 rows x 21 columns]"
      ]
     },
     "execution_count": 12,
     "metadata": {},
     "output_type": "execute_result"
    }
   ],
   "source": [
    "#Quick check df\n",
    "print('Total duration in hours: {:.0f}\\n'.format(df.duration_ms.sum()/(1000*60*60)))\n",
    "print(df.playlist.unique().tolist())\n",
    "df.head()"
   ]
  },
  {
   "cell_type": "markdown",
   "id": "094b50f7",
   "metadata": {},
   "source": [
    "---\n",
    "### Data collection part finished. \n",
    "### Next step see     [*Part 2 - Exploratory Data Analysis*](https://github.com/uzampogn/Spotify-x-Reverberation-The-essence-of-cool)"
   ]
  }
 ],
 "metadata": {
  "kernelspec": {
   "display_name": "Python 3",
   "language": "python",
   "name": "python3"
  },
  "language_info": {
   "codemirror_mode": {
    "name": "ipython",
    "version": 3
   },
   "file_extension": ".py",
   "mimetype": "text/x-python",
   "name": "python",
   "nbconvert_exporter": "python",
   "pygments_lexer": "ipython3",
   "version": "3.9.4"
  }
 },
 "nbformat": 4,
 "nbformat_minor": 5
}
